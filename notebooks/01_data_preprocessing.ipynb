# 01_data_preprocessing.ipynb

# 1️⃣ Import libraries
import pandas as pd
import numpy as np
import re
import nltk
from nltk.corpus import stopwords

nltk.download('stopwords')
stop_words = set(stopwords.words('english'))

# 2️⃣ Load data
data = pd.read_csv('../data/raw/scdb_data.csv')  # Replace with your CSV filename
print(data.head())

# 3️⃣ Preprocessing function
def clean_text(text):
    text = str(text).lower()
    text = re.sub(r'[^a-zA-Z\s]', '', text)
    text = ' '.join([word for word in text.split() if word not in stop_words])
    return text

# 4️⃣ Apply preprocessing
data['cleaned_text'] = data['casebody'].apply(clean_text)  # Replace 'casebody' with actual column
data.to_csv('../data/processed/cleaned_data.csv', index=False)
print("Data preprocessing complete.")

