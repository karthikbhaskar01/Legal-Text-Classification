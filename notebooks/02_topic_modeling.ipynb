# 02_topic_modeling.ipynb

import pandas as pd
from gensim import corpora, models
import pyLDAvis.gensim_models
import pyLDAvis

# Load preprocessed data
data = pd.read_csv('../data/processed/cleaned_data.csv')
texts = [text.split() for text in data['cleaned_text']]

# Create dictionary and corpus
dictionary = corpora.Dictionary(texts)
corpus = [dictionary.doc2bow(text) for text in texts]

# Build LDA model
lda_model = models.LdaModel(corpus, num_topics=5, id2word=dictionary, passes=15)
lda_model.save('../models/lda_model/lda.model')

# Print topics
for idx, topic in lda_model.print_topics(-1):
    print(f"Topic: {idx} \nWords: {topic}\n")

# Visualize topics
pyLDAvis.enable_notebook()
lda_vis = pyLDAvis.gensim_models.prepare(lda_model, corpus, dictionary)
pyLDAvis.show(lda_vis)

