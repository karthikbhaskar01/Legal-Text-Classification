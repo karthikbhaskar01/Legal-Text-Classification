# 03_classification.ipynb

import pandas as pd
from sklearn.model_selection import train_test_split
from sklearn.feature_extraction.text import TfidfVectorizer
from sklearn.linear_model import LogisticRegression
from sklearn.metrics import classification_report

# Load data
data = pd.read_csv('../data/processed/cleaned_data.csv')

# Use 'category' as label column
X = data['cleaned_text']
y = data['category']  # Replace with actual column

# Split dataset
X_train, X_test, y_train, y_test = train_test_split(X, y, test_size=0.2, random_state=42)

# Convert text to TF-IDF vectors
vectorizer = TfidfVectorizer(max_features=5000)
X_train_tfidf = vectorizer.fit_transform(X_train)
X_test_tfidf = vectorizer.transform(X_test)

# Train Logistic Regression
model = LogisticRegression(max_iter=200)
model.fit(X_train_tfidf, y_train)

# Predictions
y_pred = model.predict(X_test_tfidf)
print(classification_report(y_test, y_pred))

# Save model
import joblib
joblib.dump(model, '../models/lr_model/logistic_regression_model.pkl')
joblib.dump(vectorizer, '../models/lr_model/vectorizer.pkl')

